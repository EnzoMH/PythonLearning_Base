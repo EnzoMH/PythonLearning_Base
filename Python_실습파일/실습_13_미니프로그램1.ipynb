{
 "cells": [
  {
   "cell_type": "markdown",
   "metadata": {},
   "source": [
    "### 1.거스름돈 계산하기"
   ]
  },
  {
   "cell_type": "markdown",
   "metadata": {},
   "source": [
    "저금한 금액이 34200원 입니다. \n",
    "\n",
    "이 금액이 1만원권 몇장인지 계산하고 1만원권을 제외한 나머지 금액을 계산하여 표시하는 프로그램을 작성하세요"
   ]
  },
  {
   "cell_type": "code",
   "execution_count": 28,
   "metadata": {},
   "outputs": [
    {
     "name": "stdout",
     "output_type": "stream",
     "text": [
      "1만원권은 3장이고, 거스름돈은 4200원입니다\n"
     ]
    }
   ],
   "source": [
    "a = 34200\n",
    "b = int(a / 10000)\n",
    "bill = b\n",
    "exchange = a % 10000\n",
    "print(\"1만원권은 %d장이고, 거스름돈은 %d원입니다\" % (bill, exchange))\n",
    "\n",
    "\n",
    "\n",
    "\n"
   ]
  },
  {
   "cell_type": "markdown",
   "metadata": {},
   "source": [
    "### 2.이등변삼각형의 넓이 구하기"
   ]
  },
  {
   "cell_type": "markdown",
   "metadata": {},
   "source": [
    "[조건] 밑변과 높이는 키보드로부터 입력을 받아서 계산합니다."
   ]
  },
  {
   "cell_type": "code",
   "execution_count": 30,
   "metadata": {},
   "outputs": [
    {
     "name": "stdout",
     "output_type": "stream",
     "text": [
      "이등변 삼각형의 넓이는 25 cm^2입니다\n"
     ]
    }
   ],
   "source": [
    "\"\"\"이등변삼각형의 넓이를 구하시오\"\"\"\n",
    "a = 10\n",
    "b = 5\n",
    "base = a\n",
    "height = b\n",
    "answer = a*b/2\n",
    "\n",
    "print(\"밑변이 10cm, 높이가 5cm인 이등변삼각형의 넓이를 구하시오\")\n",
    "print(\"이등변 삼각형의 넓이는 %d cm^2입니다\" % answer)\n",
    "\n",
    "\n",
    "\n",
    "\n",
    "\n",
    "\n"
   ]
  },
  {
   "cell_type": "markdown",
   "metadata": {},
   "source": [
    "### 3. 자동판매기 프로그램"
   ]
  },
  {
   "cell_type": "markdown",
   "metadata": {},
   "source": [
    "자동판매기(투입한 돈과 물건 값을 입력 받고 거스름돈 계산) 프로그램을 작성하세요.\n",
    "\n",
    "자동판매기에 거스름돈은 500원과 100원만 있다고 가정합니다."
   ]
  },
  {
   "cell_type": "code",
   "execution_count": 2,
   "metadata": {},
   "outputs": [
    {
     "ename": "NameError",
     "evalue": "name 'a' is not defined",
     "output_type": "error",
     "traceback": [
      "\u001b[1;31m---------------------------------------------------------------------------\u001b[0m",
      "\u001b[1;31mNameError\u001b[0m                                 Traceback (most recent call last)",
      "\u001b[1;32m<ipython-input-2-a952b0d3a110>\u001b[0m in \u001b[0;36m<module>\u001b[1;34m\u001b[0m\n\u001b[1;32m----> 1\u001b[1;33m \u001b[0minput_money\u001b[0m \u001b[1;33m=\u001b[0m \u001b[0ma\u001b[0m\u001b[1;33m\u001b[0m\u001b[1;33m\u001b[0m\u001b[0m\n\u001b[0m\u001b[0;32m      2\u001b[0m \u001b[0ma\u001b[0m \u001b[1;33m=\u001b[0m \u001b[1;36m5000\u001b[0m\u001b[1;33m\u001b[0m\u001b[1;33m\u001b[0m\u001b[0m\n\u001b[0;32m      3\u001b[0m \u001b[0mproduct_price\u001b[0m \u001b[1;33m=\u001b[0m \u001b[0mb\u001b[0m\u001b[1;33m\u001b[0m\u001b[1;33m\u001b[0m\u001b[0m\n\u001b[0;32m      4\u001b[0m \u001b[0mb\u001b[0m \u001b[1;33m=\u001b[0m \u001b[1;36m3800\u001b[0m\u001b[1;33m\u001b[0m\u001b[1;33m\u001b[0m\u001b[0m\n\u001b[0;32m      5\u001b[0m \u001b[0mexchange\u001b[0m \u001b[1;33m=\u001b[0m \u001b[0mc\u001b[0m\u001b[1;33m\u001b[0m\u001b[1;33m\u001b[0m\u001b[0m\n",
      "\u001b[1;31mNameError\u001b[0m: name 'a' is not defined"
     ]
    }
   ],
   "source": [
    "input_money = a\n",
    "a = 5000\n",
    "product_price = b\n",
    "b = 3800\n",
    "exchange = c\n",
    "c = a - b\n",
    "exchange500 = int( c / 500 )\n",
    "x = int( c / 500 )\n",
    "exchange100 = int((c - 500*d) / 100)\n",
    "\n",
    "print(\"투입한 돈은 %d 원입니다.\" %input_money)\n",
    "print(\"물건 값은 %d원입니다.\" %product_price)\n",
    "print(\"거스름돈 500원의 갯수는 %d개입니다\" %exchange500)\n",
    "print(\"거스름돈 100원의 갯수는 %d개입니다\" %exchange100)\n",
    "\n",
    "\n",
    "\n",
    "\n"
   ]
  },
  {
   "cell_type": "code",
   "execution_count": null,
   "metadata": {},
   "outputs": [],
   "source": []
  }
 ],
 "metadata": {
  "kernelspec": {
   "display_name": "Python 3",
   "language": "python",
   "name": "python3"
  },
  "language_info": {
   "codemirror_mode": {
    "name": "ipython",
    "version": 3
   },
   "file_extension": ".py",
   "mimetype": "text/x-python",
   "name": "python",
   "nbconvert_exporter": "python",
   "pygments_lexer": "ipython3",
   "version": "3.8.8"
  }
 },
 "nbformat": 4,
 "nbformat_minor": 2
}
