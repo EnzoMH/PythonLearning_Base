{
 "cells": [
  {
   "cell_type": "markdown",
   "metadata": {},
   "source": [
    "# 16_제어문-while 반복문 "
   ]
  },
  {
   "cell_type": "markdown",
   "metadata": {},
   "source": [
    "### 1. 기본 while 반복문"
   ]
  },
  {
   "cell_type": "markdown",
   "metadata": {},
   "source": [
    "기본문법  \n",
    "\n",
    "while 조건식 :  \n",
    "    #명령문1  \n",
    "    #명령문2  "
   ]
  },
  {
   "cell_type": "code",
   "execution_count": 14,
   "metadata": {},
   "outputs": [
    {
     "name": "stdout",
     "output_type": "stream",
     "text": [
      "1\n",
      "2\n",
      "3\n",
      "4\n",
      "5\n"
     ]
    }
   ],
   "source": [
    "# 1부터 5까지 출력하기\n",
    "\n",
    "a = 1\n",
    "while a <=5 :\n",
    "    print(a)\n",
    "    a = a + 1"
   ]
  },
  {
   "cell_type": "code",
   "execution_count": 15,
   "metadata": {},
   "outputs": [
    {
     "name": "stdout",
     "output_type": "stream",
     "text": [
      "a = 1 sum =  1\n",
      "a = 2 sum =  3\n",
      "a = 3 sum =  6\n",
      "a = 4 sum =  10\n",
      "a = 5 sum =  15\n",
      "a = 6 sum =  21\n",
      "a = 7 sum =  28\n",
      "a = 8 sum =  36\n",
      "a = 9 sum =  45\n",
      "a = 10 sum =  55\n"
     ]
    }
   ],
   "source": [
    "# 1~10까지의 합 (while 문 사용)\n",
    "a = 1\n",
    "sum = 0\n",
    "while a<= 10 :\n",
    "    sum = sum + a\n",
    "    print('a =', a, 'sum = ', sum)\n",
    "    a = a+1\n",
    "\n",
    "\n",
    "\n"
   ]
  },
  {
   "cell_type": "code",
   "execution_count": null,
   "metadata": {
    "scrolled": false
   },
   "outputs": [],
   "source": [
    "# 1부터 10까지 짝수의 합 구하기(1) : 숫자를 2씩 증가시키는 방법\n",
    "a = 2\n",
    "sum = 0\n",
    "while a <= 10 :\n",
    "    sum = sum + a \n",
    "    print('a = ', a, 'sum = ', sum)\n",
    "    a = a + 2  "
   ]
  },
  {
   "cell_type": "code",
   "execution_count": null,
   "metadata": {},
   "outputs": [],
   "source": [
    "# 1부터 10까지 짝수의 합 구하기(2) : 조건문으로 짝수 판별\n",
    "\n",
    "a = 1\n",
    "sum = 0\n",
    "while a <= 10 :\n",
    "    if a % 2 == 0 :\n",
    "        sum = sum + a \n",
    "        print('a = ', a, 'sum = ', sum)\n",
    "    a = a + 1  "
   ]
  },
  {
   "cell_type": "code",
   "execution_count": null,
   "metadata": {
    "scrolled": true
   },
   "outputs": [],
   "source": [
    "a = 1\n",
    "sum = 0\n",
    "\n",
    "while a<= 10 :\n",
    "    if a % 2 == 1 :\n",
    "        sum = sum + a\n",
    "    print('a = ', a, 'sum = ', sum)\n",
    "    a = a + 1\n",
    "print('홀수의 합 :', sum)\n",
    "\n",
    "    \n",
    "    "
   ]
  },
  {
   "cell_type": "code",
   "execution_count": 17,
   "metadata": {
    "scrolled": true
   },
   "outputs": [
    {
     "name": "stdout",
     "output_type": "stream",
     "text": [
      "\n",
      "1. 추가\n",
      "2. 삭제\n",
      "3. 목록\n",
      "4. 종료\n",
      "\n",
      "원하는 번호를 입력하세요!\n",
      "\n",
      "1\n",
      "\n",
      "1. 추가\n",
      "2. 삭제\n",
      "3. 목록\n",
      "4. 종료\n",
      "\n",
      "원하는 번호를 입력하세요!\n",
      "\n",
      "2\n",
      "\n",
      "1. 추가\n",
      "2. 삭제\n",
      "3. 목록\n",
      "4. 종료\n",
      "\n",
      "원하는 번호를 입력하세요!\n",
      "\n",
      "3\n",
      "\n",
      "1. 추가\n",
      "2. 삭제\n",
      "3. 목록\n",
      "4. 종료\n",
      "\n",
      "원하는 번호를 입력하세요!\n",
      "\n",
      "4\n",
      "프로그램을 종료합니다\n"
     ]
    }
   ],
   "source": [
    "# 원하는 조건을 입력 받을 때까지 계속 입력받는 프로그램\n",
    "\n",
    "prompt = '''\n",
    "1. 추가\n",
    "2. 삭제\n",
    "3. 목록\n",
    "4. 종료\n",
    "\n",
    "원하는 번호를 입력하세요!\n",
    "'''\n",
    "\n",
    "num = 0\n",
    "while num != 4 :\n",
    "    print(prompt)\n",
    "    num = int(input())\n",
    "print('프로그램을 종료합니다')"
   ]
  },
  {
   "cell_type": "code",
   "execution_count": 13,
   "metadata": {
    "scrolled": true
   },
   "outputs": [
    {
     "name": "stdout",
     "output_type": "stream",
     "text": [
      "숫자를 입력해주세요 : 3\n",
      "3 x 1 = 3\n",
      "3 x 2 = 6\n",
      "3 x 3 = 9\n",
      "3 x 4 = 12\n",
      "3 x 5 = 15\n",
      "3 x 6 = 18\n",
      "3 x 7 = 21\n",
      "3 x 8 = 24\n",
      "3 x 9 = 27\n"
     ]
    }
   ],
   "source": [
    "# 구구단 입력(input() 사용)을 받아 결과를 출력하는 프로그램\n",
    "a = int(input('숫자를 입력해주세요 : '))\n",
    "b = 1\n",
    "while b <= 9 :\n",
    "    multiplication = a * b\n",
    "    print(f\"{a} x {b} = {multiplication}\")\n",
    "    b = b + 1\n",
    "   \n",
    "\n",
    "\n",
    "\n",
    "\n",
    "\n"
   ]
  },
  {
   "cell_type": "code",
   "execution_count": 19,
   "metadata": {
    "scrolled": true
   },
   "outputs": [
    {
     "name": "stdout",
     "output_type": "stream",
     "text": [
      "숫자를 입력해주세요 : 19\n",
      "19 X 1 = 19\n",
      "19 X 2 = 38\n",
      "19 X 3 = 57\n",
      "19 X 4 = 76\n",
      "19 X 5 = 95\n",
      "19 X 6 = 114\n",
      "19 X 7 = 133\n",
      "19 X 8 = 152\n",
      "19 X 9 = 171\n"
     ]
    }
   ],
   "source": [
    "a = int(input('숫자를 입력해주세요 : '))\n",
    "b = 1\n",
    "while b <= 9:\n",
    "    multiplication = a * b\n",
    "    print(f\"{a} X {b} = {multiplication}\")\n",
    "    b = b + 1"
   ]
  },
  {
   "cell_type": "code",
   "execution_count": null,
   "metadata": {},
   "outputs": [],
   "source": []
  },
  {
   "cell_type": "code",
   "execution_count": null,
   "metadata": {},
   "outputs": [],
   "source": []
  }
 ],
 "metadata": {
  "kernelspec": {
   "display_name": "Python 3",
   "language": "python",
   "name": "python3"
  },
  "language_info": {
   "codemirror_mode": {
    "name": "ipython",
    "version": 3
   },
   "file_extension": ".py",
   "mimetype": "text/x-python",
   "name": "python",
   "nbconvert_exporter": "python",
   "pygments_lexer": "ipython3",
   "version": "3.8.8"
  }
 },
 "nbformat": 4,
 "nbformat_minor": 2
}
