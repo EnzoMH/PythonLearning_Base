{
 "cells": [
  {
   "cell_type": "markdown",
   "metadata": {},
   "source": [
    "### **예제로 파이썬 만나보기**\n",
    "- 111\n",
    "- 222\n",
    " 1.gtts 모듈 설치  \n",
    " 2.관련 모듈 import  \n",
    " 3.지원 언어 파악하기기  \n",
    " 4.텍스트 음성 변환  "
   ]
  },
  {
   "cell_type": "code",
   "execution_count": 15,
   "metadata": {},
   "outputs": [
    {
     "name": "stdout",
     "output_type": "stream",
     "text": [
      "Requirement already satisfied: gtts in c:\\users\\isfs0\\anaconda3\\lib\\site-packages (2.3.2)\n",
      "Requirement already satisfied: click<8.2,>=7.1 in c:\\users\\isfs0\\anaconda3\\lib\\site-packages (from gtts) (7.1.2)\n",
      "Requirement already satisfied: requests<3,>=2.27 in c:\\users\\isfs0\\anaconda3\\lib\\site-packages (from gtts) (2.31.0)\n",
      "Requirement already satisfied: idna<4,>=2.5 in c:\\users\\isfs0\\anaconda3\\lib\\site-packages (from requests<3,>=2.27->gtts) (2.10)\n",
      "Requirement already satisfied: charset-normalizer<4,>=2 in c:\\users\\isfs0\\anaconda3\\lib\\site-packages (from requests<3,>=2.27->gtts) (3.2.0)\n",
      "Requirement already satisfied: urllib3<3,>=1.21.1 in c:\\users\\isfs0\\anaconda3\\lib\\site-packages (from requests<3,>=2.27->gtts) (1.26.4)\n",
      "Requirement already satisfied: certifi>=2017.4.17 in c:\\users\\isfs0\\anaconda3\\lib\\site-packages (from requests<3,>=2.27->gtts) (2020.12.5)\n"
     ]
    }
   ],
   "source": [
    "# 1.gtts 모듈 설치\n",
    "# https://gtts.readthedocs.io/en/latest/index.html\n",
    "!pip install gtts "
   ]
  },
  {
   "cell_type": "markdown",
   "metadata": {},
   "source": [
    "dfgsdfg"
   ]
  },
  {
   "cell_type": "code",
   "execution_count": 16,
   "metadata": {},
   "outputs": [],
   "source": [
    "# 2.관련 모듈 import\n",
    "import os\n",
    "import gtts \n",
    "import IPython.display "
   ]
  },
  {
   "cell_type": "code",
   "execution_count": 14,
   "metadata": {},
   "outputs": [
    {
     "name": "stdout",
     "output_type": "stream",
     "text": [
      "{'af': 'Afrikaans', 'ar': 'Arabic', 'bg': 'Bulgarian', 'bn': 'Bengali', 'bs': 'Bosnian', 'ca': 'Catalan', 'cs': 'Czech', 'da': 'Danish', 'de': 'German', 'el': 'Greek', 'en': 'English', 'es': 'Spanish', 'et': 'Estonian', 'fi': 'Finnish', 'fr': 'French', 'gu': 'Gujarati', 'hi': 'Hindi', 'hr': 'Croatian', 'hu': 'Hungarian', 'id': 'Indonesian', 'is': 'Icelandic', 'it': 'Italian', 'iw': 'Hebrew', 'ja': 'Japanese', 'jw': 'Javanese', 'km': 'Khmer', 'kn': 'Kannada', 'ko': 'Korean', 'la': 'Latin', 'lv': 'Latvian', 'ml': 'Malayalam', 'mr': 'Marathi', 'ms': 'Malay', 'my': 'Myanmar (Burmese)', 'ne': 'Nepali', 'nl': 'Dutch', 'no': 'Norwegian', 'pl': 'Polish', 'pt': 'Portuguese', 'ro': 'Romanian', 'ru': 'Russian', 'si': 'Sinhala', 'sk': 'Slovak', 'sq': 'Albanian', 'sr': 'Serbian', 'su': 'Sundanese', 'sv': 'Swedish', 'sw': 'Swahili', 'ta': 'Tamil', 'te': 'Telugu', 'th': 'Thai', 'tl': 'Filipino', 'tr': 'Turkish', 'uk': 'Ukrainian', 'ur': 'Urdu', 'vi': 'Vietnamese', 'zh-CN': 'Chinese (Simplified)', 'zh-TW': 'Chinese (Mandarin/Taiwan)', 'zh': 'Chinese (Mandarin)'}\n"
     ]
    }
   ],
   "source": [
    "# 3.지원 언어 파악하기\n",
    "print(gtts.lang.tts_langs())"
   ]
  },
  {
   "cell_type": "code",
   "execution_count": 20,
   "metadata": {},
   "outputs": [
    {
     "data": {
      "text/html": [
       "\n",
       "                <audio  controls=\"controls\" autoplay=\"autoplay\">\n",
       "                    <source src=\"data:audio/mpeg;base64,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\" type=\"audio/mpeg\" />\n",
       "                    Your browser does not support the audio element.\n",
       "                </audio>\n",
       "              "
      ],
      "text/plain": [
       "<IPython.lib.display.Audio object>"
      ]
     },
     "metadata": {},
     "output_type": "display_data"
    }
   ],
   "source": [
    "# 4.텍스트 음성 변환\n",
    "text = \"가나다라마바사아자차카타파하\"\n",
    "\n",
    "tts = gtts.gTTS(text=text, lang='ko')\n",
    "tts.save(\"tts.mp3\")\n",
    "\n",
    "sound_file = 'tts.mp3'\n",
    "wn = IPython.display.Audio(sound_file, autoplay=True)\n",
    "IPython.display.display(wn)"
   ]
  },
  {
   "cell_type": "markdown",
   "metadata": {},
   "source": [
    "# 07_파이썬 문법 기초 사항"
   ]
  },
  {
   "cell_type": "markdown",
   "metadata": {},
   "source": [
    "### 1. 할당 구문"
   ]
  },
  {
   "cell_type": "code",
   "execution_count": 11,
   "metadata": {},
   "outputs": [
    {
     "data": {
      "text/plain": [
       "2374966103920"
      ]
     },
     "execution_count": 11,
     "metadata": {},
     "output_type": "execute_result"
    }
   ],
   "source": [
    "str = 'Learn Python'\n",
    "id(str)"
   ]
  },
  {
   "cell_type": "code",
   "execution_count": 21,
   "metadata": {},
   "outputs": [
    {
     "data": {
      "text/plain": [
       "2374966200368"
      ]
     },
     "execution_count": 21,
     "metadata": {},
     "output_type": "execute_result"
    }
   ],
   "source": [
    "str1 = 'Learn Python'\n",
    "id(str1)"
   ]
  },
  {
   "cell_type": "code",
   "execution_count": 22,
   "metadata": {},
   "outputs": [
    {
     "data": {
      "text/plain": [
       "2374966198320"
      ]
     },
     "execution_count": 22,
     "metadata": {},
     "output_type": "execute_result"
    }
   ],
   "source": [
    "str2 = 'I love Python'\n",
    "id(str2)"
   ]
  },
  {
   "cell_type": "code",
   "execution_count": 23,
   "metadata": {},
   "outputs": [
    {
     "data": {
      "text/plain": [
       "2374966198320"
      ]
     },
     "execution_count": 23,
     "metadata": {},
     "output_type": "execute_result"
    }
   ],
   "source": [
    "str3 = str2\n",
    "id(str3)"
   ]
  },
  {
   "cell_type": "markdown",
   "metadata": {},
   "source": [
    "### 2. 문장쓰기"
   ]
  },
  {
   "cell_type": "code",
   "execution_count": 39,
   "metadata": {},
   "outputs": [],
   "source": [
    "num1 = 1\n",
    "num2 = 2"
   ]
  },
  {
   "cell_type": "code",
   "execution_count": 40,
   "metadata": {},
   "outputs": [
    {
     "name": "stdout",
     "output_type": "stream",
     "text": [
      "1\n"
     ]
    }
   ],
   "source": [
    "print(num1)"
   ]
  },
  {
   "cell_type": "code",
   "execution_count": 41,
   "metadata": {},
   "outputs": [],
   "source": [
    "num1 = 1 ; num2 = 2"
   ]
  },
  {
   "cell_type": "code",
   "execution_count": 42,
   "metadata": {},
   "outputs": [],
   "source": [
    "num3 = num1 + num2"
   ]
  },
  {
   "cell_type": "code",
   "execution_count": 43,
   "metadata": {},
   "outputs": [],
   "source": [
    "num4 = num1 + num2 + num3"
   ]
  },
  {
   "cell_type": "code",
   "execution_count": 52,
   "metadata": {},
   "outputs": [],
   "source": [
    "num4 = num1 + num2 + \\\n",
    "       + num3                     "
   ]
  },
  {
   "cell_type": "code",
   "execution_count": 51,
   "metadata": {},
   "outputs": [],
   "source": [
    "str = 'python'\n",
    "str1 = \"python\"\n",
    "version = 3.7 "
   ]
  },
  {
   "cell_type": "markdown",
   "metadata": {},
   "source": [
    "### 3. 주석 "
   ]
  },
  {
   "cell_type": "code",
   "execution_count": null,
   "metadata": {},
   "outputs": [],
   "source": [
    "#  한줄 주석에는 샵을 씀\n",
    "\n",
    "# 변수에 값 지정하기\n",
    "num = 1"
   ]
  },
  {
   "cell_type": "code",
   "execution_count": null,
   "metadata": {},
   "outputs": [],
   "source": [
    "# 여러줄 주석\n",
    "\"\"\"\n",
    "여러줄 주석은 없으나 \n",
    "다중 문자열에 사용하는 “”” ~ “”” 형태로 사용하기도 함\n",
    "\"\"\""
   ]
  },
  {
   "cell_type": "markdown",
   "metadata": {},
   "source": [
    "### 4. 들여쓰기"
   ]
  },
  {
   "cell_type": "code",
   "execution_count": 53,
   "metadata": {},
   "outputs": [
    {
     "name": "stdout",
     "output_type": "stream",
     "text": [
      "0\n",
      "0\n",
      "0\n",
      "1\n",
      "1\n",
      "1\n",
      "2\n",
      "2\n",
      "2\n",
      "3\n",
      "3\n",
      "3\n",
      "4\n",
      "4\n",
      "4\n"
     ]
    }
   ],
   "source": [
    "# 반복문\n",
    "for i in range(5):\n",
    "    print(i)\n",
    "    print(i)\n",
    "    print(i)"
   ]
  },
  {
   "cell_type": "code",
   "execution_count": 54,
   "metadata": {},
   "outputs": [
    {
     "ename": "SyntaxError",
     "evalue": "invalid syntax (<ipython-input-54-3019500982ad>, line 1)",
     "output_type": "error",
     "traceback": [
      "\u001b[1;36m  File \u001b[1;32m\"<ipython-input-54-3019500982ad>\"\u001b[1;36m, line \u001b[1;32m1\u001b[0m\n\u001b[1;33m    void main() {\u001b[0m\n\u001b[1;37m         ^\u001b[0m\n\u001b[1;31mSyntaxError\u001b[0m\u001b[1;31m:\u001b[0m invalid syntax\n"
     ]
    }
   ],
   "source": [
    "void main() {\n",
    "    printf(\"test2\")\n",
    "    printf(\"test3\")\n",
    "    printf(\"test\")\n",
    "    printf(\"test\")\n",
    "}"
   ]
  },
  {
   "cell_type": "code",
   "execution_count": 55,
   "metadata": {},
   "outputs": [
    {
     "name": "stdout",
     "output_type": "stream",
     "text": [
      "kang\n",
      "010-100-1000\n"
     ]
    }
   ],
   "source": [
    "# 함수 만들기\n",
    "def print_information():\n",
    "    \"\"\"\n",
    "    여러줄 주석은 없으나 \n",
    "    다중 문자열에 사용하는 “”” ~ “”” 형태로 사용하기도 함\n",
    "    \"\"\"\n",
    "    print(\"kang\")\n",
    "    print(\"010-100-1000\")\n",
    "    \n",
    "print_information()"
   ]
  },
  {
   "cell_type": "code",
   "execution_count": 58,
   "metadata": {},
   "outputs": [
    {
     "name": "stdout",
     "output_type": "stream",
     "text": [
      "kang\n",
      "010-100-1000\n",
      "kang\n",
      "010-100-1000\n",
      "kang\n",
      "010-100-1000\n",
      "kang\n",
      "010-100-1000\n",
      "kang\n",
      "010-100-1000\n"
     ]
    }
   ],
   "source": [
    "for i in range(5):\n",
    "    print_information()"
   ]
  },
  {
   "cell_type": "code",
   "execution_count": 66,
   "metadata": {},
   "outputs": [],
   "source": [
    "a=1"
   ]
  },
  {
   "cell_type": "code",
   "execution_count": 67,
   "metadata": {},
   "outputs": [
    {
     "data": {
      "text/plain": [
       "1"
      ]
     },
     "execution_count": 67,
     "metadata": {},
     "output_type": "execute_result"
    }
   ],
   "source": [
    " a"
   ]
  },
  {
   "cell_type": "markdown",
   "metadata": {},
   "source": [
    "### 연습문제"
   ]
  },
  {
   "cell_type": "code",
   "execution_count": 68,
   "metadata": {},
   "outputs": [
    {
     "name": "stdout",
     "output_type": "stream",
     "text": [
      "python 사용 버전은 3.7 입니다\n"
     ]
    }
   ],
   "source": [
    "'''\n",
    "주석, 변수명, 숫자와 문자열\n",
    "테스트 프로그램\n",
    "'''\n",
    "\n",
    "program_name = 'python'\n",
    "version = 3.7\n",
    "\n",
    "# print 함수는 내용을 출력해주는 함수입니다\n",
    "\n",
    "print(program_name, '사용 버전은', version, '입니다')"
   ]
  },
  {
   "cell_type": "code",
   "execution_count": null,
   "metadata": {},
   "outputs": [],
   "source": []
  }
 ],
 "metadata": {
  "kernelspec": {
   "display_name": "Python 3",
   "language": "python",
   "name": "python3"
  },
  "language_info": {
   "codemirror_mode": {
    "name": "ipython",
    "version": 3
   },
   "file_extension": ".py",
   "mimetype": "text/x-python",
   "name": "python",
   "nbconvert_exporter": "python",
   "pygments_lexer": "ipython3",
   "version": "3.8.8"
  }
 },
 "nbformat": 4,
 "nbformat_minor": 2
}
