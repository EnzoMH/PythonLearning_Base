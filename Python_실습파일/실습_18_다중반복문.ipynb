{
 "cells": [
  {
   "cell_type": "markdown",
   "metadata": {},
   "source": [
    "# 18_다중반복문"
   ]
  },
  {
   "cell_type": "code",
   "execution_count": null,
   "metadata": {
    "scrolled": false
   },
   "outputs": [],
   "source": [
    "# 이중 for문을 사용하여 하트를 여러 줄에 출력하기 - 줄과 하트 수 입력받기\n",
    "\n",
    "a = int(input('하트를 몇 줄 출력할까요? : '))   # 가변 이중 loop 입력을 받아서 \n",
    "b = int(input('출력할 하트 수를 입력하세요 : '))\n",
    "heart = '★'\n",
    "for _ in range(a):\n",
    "    for _ in range(b):\n",
    "        print(heart, end='')\n",
    "    print()\n",
    "\n",
    "\n",
    "\n"
   ]
  },
  {
   "cell_type": "code",
   "execution_count": null,
   "metadata": {},
   "outputs": [],
   "source": [
    "# 이중 for문을 사용하여 하트를 여러 줄에 출력하기 - 줄과 하트 수 입력받기\n",
    "\n",
    "a = int(input('하트를 몇 줄 출력할까요? : '))   # 가변 이중 loop 입력을 받아서 \n",
    "b = int(input('출력할 하트 수를 입력하세요 : '))\n",
    "heart = '♥'\n",
    "for _ in range (a) :\n",
    "    for _ in range (b):\n",
    "        print(heart, end = '')\n",
    "    print ()\n",
    "\n",
    "    \n"
   ]
  },
  {
   "cell_type": "code",
   "execution_count": null,
   "metadata": {
    "scrolled": true
   },
   "outputs": [],
   "source": [
    "# 바깥쪽 루프: 1부터 3까지 반복\n",
    "for i in range(1, 4):\n",
    "    # 안쪽 루프: 1부터 3까지 반복\n",
    "    for j in range(1, 4):\n",
    "        # i와 j를 곱해서 출력\n",
    "        result = i * j\n",
    "        print(f'{i} x {j} = {result}')"
   ]
  },
  {
   "cell_type": "code",
   "execution_count": null,
   "metadata": {
    "scrolled": false
   },
   "outputs": [],
   "source": [
    "# 바깥쪽 루프: 변수 i 초기화\n",
    "i = 1\n",
    "while i <= 3:\n",
    "    # 안쪽 루프: 변수 j 초기화\n",
    "    j = 1\n",
    "    while j <= 3:\n",
    "        # i와 j를 곱해서 출력\n",
    "        result = i * j\n",
    "        print(f'{i} x {j} = {result}')\n",
    "        # 안쪽 루프에서 j를 증가\n",
    "        j += 1\n",
    "    # 바깥쪽 루프에서 i를 증가\n",
    "    i += 1"
   ]
  },
  {
   "cell_type": "code",
   "execution_count": null,
   "metadata": {},
   "outputs": [],
   "source": [
    "# 라인수와 하트 수가 같게 출력하기\n",
    "\n",
    "a = int(input('하트를 몇 줄 출력할까요? : '))   # 가변 이중 loop 입력을 받아서 \n",
    "\n",
    "i = 1\n",
    "\n",
    "while i <= a :\n",
    "    j = 1\n",
    "    while j <= i:\n",
    "        print('♥', end='')\n",
    "        j += 1\n",
    "    print()\n",
    "    i += 1"
   ]
  },
  {
   "cell_type": "code",
   "execution_count": null,
   "metadata": {},
   "outputs": [],
   "source": [
    "# 이중 포문\n",
    "i , j = 0, 0\n",
    "\n",
    "for i in range (2,10,1) :\n",
    "    for j in range(1,10,1) :\n",
    "        #print('%d * %d = %2d' %(i, j , i *j))\n",
    "    # print()\n",
    "    "
   ]
  },
  {
   "cell_type": "code",
   "execution_count": 2,
   "metadata": {},
   "outputs": [
    {
     "name": "stdout",
     "output_type": "stream",
     "text": [
      " 2 *  1 =  2 3 *  1 =  3 4 *  1 =  4 5 *  1 =  5 6 *  1 =  6 7 *  1 =  7 8 *  1 =  8 9 *  1 =  9\n",
      " 2 *  2 =  4 3 *  2 =  6 4 *  2 =  8 5 *  2 = 10 6 *  2 = 12 7 *  2 = 14 8 *  2 = 16 9 *  2 = 18\n",
      " 2 *  3 =  6 3 *  3 =  9 4 *  3 = 12 5 *  3 = 15 6 *  3 = 18 7 *  3 = 21 8 *  3 = 24 9 *  3 = 27\n",
      " 2 *  4 =  8 3 *  4 = 12 4 *  4 = 16 5 *  4 = 20 6 *  4 = 24 7 *  4 = 28 8 *  4 = 32 9 *  4 = 36\n",
      " 2 *  5 = 10 3 *  5 = 15 4 *  5 = 20 5 *  5 = 25 6 *  5 = 30 7 *  5 = 35 8 *  5 = 40 9 *  5 = 45\n",
      " 2 *  6 = 12 3 *  6 = 18 4 *  6 = 24 5 *  6 = 30 6 *  6 = 36 7 *  6 = 42 8 *  6 = 48 9 *  6 = 54\n",
      " 2 *  7 = 14 3 *  7 = 21 4 *  7 = 28 5 *  7 = 35 6 *  7 = 42 7 *  7 = 49 8 *  7 = 56 9 *  7 = 63\n",
      " 2 *  8 = 16 3 *  8 = 24 4 *  8 = 32 5 *  8 = 40 6 *  8 = 48 7 *  8 = 56 8 *  8 = 64 9 *  8 = 72\n",
      " 2 *  9 = 18 3 *  9 = 27 4 *  9 = 36 5 *  9 = 45 6 *  9 = 54 7 *  9 = 63 8 *  9 = 72 9 *  9 = 81\n"
     ]
    }
   ],
   "source": [
    "# 이중 포문\n",
    "i, j , line = 0, 0, ''\n",
    "\n",
    "for i in range(1,10) :\n",
    "    line = ''\n",
    "    for j in range(2, 10):\n",
    "        line = line + str('%2d * %2d = %2d' % (j, i , j *i))\n",
    "    print(line)"
   ]
  },
  {
   "cell_type": "code",
   "execution_count": 3,
   "metadata": {
    "scrolled": true
   },
   "outputs": [
    {
     "name": "stdout",
     "output_type": "stream",
     "text": [
      " 2 * 1 =  2 2 * 2 =  4 2 * 3 =  6 2 * 4 =  8 2 * 5 = 10 2 * 6 = 12 2 * 7 = 14 2 * 8 = 16 2 * 9 = 18\n",
      " 3 * 1 =  3 3 * 2 =  6 3 * 3 =  9 3 * 4 = 12 3 * 5 = 15 3 * 6 = 18 3 * 7 = 21 3 * 8 = 24 3 * 9 = 27\n",
      " 4 * 1 =  4 4 * 2 =  8 4 * 3 = 12 4 * 4 = 16 4 * 5 = 20 4 * 6 = 24 4 * 7 = 28 4 * 8 = 32 4 * 9 = 36\n",
      " 5 * 1 =  5 5 * 2 = 10 5 * 3 = 15 5 * 4 = 20 5 * 5 = 25 5 * 6 = 30 5 * 7 = 35 5 * 8 = 40 5 * 9 = 45\n",
      " 6 * 1 =  6 6 * 2 = 12 6 * 3 = 18 6 * 4 = 24 6 * 5 = 30 6 * 6 = 36 6 * 7 = 42 6 * 8 = 48 6 * 9 = 54\n",
      " 7 * 1 =  7 7 * 2 = 14 7 * 3 = 21 7 * 4 = 28 7 * 5 = 35 7 * 6 = 42 7 * 7 = 49 7 * 8 = 56 7 * 9 = 63\n",
      " 8 * 1 =  8 8 * 2 = 16 8 * 3 = 24 8 * 4 = 32 8 * 5 = 40 8 * 6 = 48 8 * 7 = 56 8 * 8 = 64 8 * 9 = 72\n",
      " 9 * 1 =  9 9 * 2 = 18 9 * 3 = 27 9 * 4 = 36 9 * 5 = 45 9 * 6 = 54 9 * 7 = 63 9 * 8 = 72 9 * 9 = 81\n"
     ]
    }
   ],
   "source": [
    "# 중첩된 while 반복문\n",
    "dan = 2\n",
    "while dan <= 9 :\n",
    "    num = 1\n",
    "    while num <= 9 :\n",
    "        result = dan * num\n",
    "        print( '%2d'%dan, '*',num,'= %2d' %result , end ='')\n",
    "        num = num + 1\n",
    "    print()\n",
    "    dan = dan + 1"
   ]
  },
  {
   "cell_type": "markdown",
   "metadata": {},
   "source": [
    "### 8. 입력 값을 하트로 나타내기\n",
    "숫자를 입력 받아 입력 받은 숫자만큼 한 줄에  하트( \\u를 출력하세요.\u000b",
    "예를 들어 345를 입력하면 첫줄에 하트 3개, 두번째 줄에 4개, 세번째 줄에 5개를 출력함"
   ]
  },
  {
   "cell_type": "code",
   "execution_count": 4,
   "metadata": {},
   "outputs": [
    {
     "name": "stdout",
     "output_type": "stream",
     "text": [
      "숫자를 입력하세요5\n",
      "\n",
      "♥♥♥♥♥\n"
     ]
    }
   ],
   "source": [
    "# 변수 초기화\n",
    "i, k, heartNum = 0, 0, 0\n",
    "numStr, ch, heartStr = '', '', ''\n",
    "\n",
    "# 사용자로부터 숫자 입력 받기\n",
    "numStr = input('숫자를 입력하세요') # input() 함수는 문자열로 입력을 받습니다.\n",
    "print()\n",
    "i = 0\n",
    "ch = numStr[i] # 입력받은 문자열에서 첫 번째 문자를 가져와서 ch 변수에 저장합니다.\n",
    "\n",
    "while True:\n",
    "    heartNum = int(ch) # ch 문자를 정수로 변환하여 heartNum 변수에 저장합니다.\n",
    "    \n",
    "    heartStr = '' # 하트 문자열을 저장할 변수를 초기화합니다.\n",
    "    for k in range(0, heartNum):\n",
    "        heartStr += '\\u2665' # 하트 문자를 heartStr에 추가합니다.\n",
    "        k += 1\n",
    "    print(heartStr) # 하트 문자열을 출력합니다.\n",
    "    \n",
    "    i += 1 # 다음 문자를 처리하기 위해 인덱스 i를 증가합니다.\n",
    "    \n",
    "    if i > len(numStr) - 1:\n",
    "        break # 모든 문자를 처리했을 때 루프를 종료합니다.\n",
    "    \n",
    "    ch = numStr[i] # 다음 문자를 ch 변수에 저장하여 처리를 반복합니다."
   ]
  },
  {
   "cell_type": "code",
   "execution_count": 5,
   "metadata": {
    "scrolled": false
   },
   "outputs": [
    {
     "name": "stdout",
     "output_type": "stream",
     "text": [
      "*           *  \n",
      "  *       *    \n",
      "    *   *      \n",
      "      *        \n",
      "    *   *      \n",
      "  *       *    \n",
      "*           *  \n"
     ]
    }
   ],
   "source": [
    "  i, j = 0, 0\n",
    "  for i in range(7):\n",
    "      for j in range(7):\n",
    "          if (i == j) or ((6-i) == j) :\n",
    "              print(\"*\", end=' ')\n",
    "          else :\n",
    "              print(\" \", end=' ')\n",
    "      print(\" \")"
   ]
  },
  {
   "cell_type": "code",
   "execution_count": 7,
   "metadata": {
    "scrolled": false
   },
   "outputs": [
    {
     "name": "stdout",
     "output_type": "stream",
     "text": [
      "숫자를 입력하세요 : 2\n",
      "\n"
     ]
    },
    {
     "ename": "IndexError",
     "evalue": "string index out of range",
     "output_type": "error",
     "traceback": [
      "\u001b[1;31m---------------------------------------------------------------------------\u001b[0m",
      "\u001b[1;31mIndexError\u001b[0m                                Traceback (most recent call last)",
      "\u001b[1;32m<ipython-input-7-3deceb95f61e>\u001b[0m in \u001b[0;36m<module>\u001b[1;34m\u001b[0m\n\u001b[0;32m      5\u001b[0m \u001b[0mprint\u001b[0m\u001b[1;33m(\u001b[0m\u001b[1;33m)\u001b[0m\u001b[1;33m\u001b[0m\u001b[1;33m\u001b[0m\u001b[0m\n\u001b[0;32m      6\u001b[0m \u001b[0mi\u001b[0m \u001b[1;33m=\u001b[0m \u001b[1;36m0\u001b[0m\u001b[1;33m\u001b[0m\u001b[1;33m\u001b[0m\u001b[0m\n\u001b[1;32m----> 7\u001b[1;33m \u001b[0mch\u001b[0m \u001b[1;33m=\u001b[0m \u001b[0mnumStr\u001b[0m \u001b[1;33m[\u001b[0m\u001b[0mi\u001b[0m\u001b[1;33m]\u001b[0m\u001b[1;33m\u001b[0m\u001b[1;33m\u001b[0m\u001b[0m\n\u001b[0m\u001b[0;32m      8\u001b[0m \u001b[1;33m\u001b[0m\u001b[0m\n\u001b[0;32m      9\u001b[0m \u001b[1;32mwhile\u001b[0m \u001b[1;32mTrue\u001b[0m\u001b[1;33m:\u001b[0m\u001b[1;33m\u001b[0m\u001b[1;33m\u001b[0m\u001b[0m\n",
      "\u001b[1;31mIndexError\u001b[0m: string index out of range"
     ]
    }
   ],
   "source": [
    "i, k, starNum = 0, 0, 0\n",
    "numStr, ch, starStr = '', '', ''\n",
    "\n",
    "starNum = input('숫자를 입력하세요 : ')\n",
    "print()\n",
    "i = 0\n",
    "ch = numStr [i]\n",
    "\n",
    "while True:\n",
    "    starNum = int(ch)\n",
    "    numStr = ''\n",
    "    for k in range(0, starNum):\n",
    "        starStr += '★' \n",
    "        k % 2 == 1\n",
    "        k += 1\n",
    "    print(starStr)\n",
    "    i += 1\n",
    "    if i > len(starStr) - 1:\n",
    "        break # 모든 문자를 처리했을 때 루프를 종료합니다.    \n",
    "    ch = numStr[i]\n",
    "    \n"
   ]
  },
  {
   "cell_type": "code",
   "execution_count": 14,
   "metadata": {
    "scrolled": true
   },
   "outputs": [
    {
     "name": "stdout",
     "output_type": "stream",
     "text": [
      "숫자를 입력해주세요: 5\n",
      "\n",
      "    ★\n",
      "  ★★★\n",
      "★★★★★\n",
      "  ★★★\n",
      "    ★\n"
     ]
    }
   ],
   "source": [
    "num = int(input('숫자를 입력해주세요: '))\n",
    "print()\n",
    "\n",
    "if num % 2 == 0:\n",
    "    num += 1  # 입력된 숫자가 짝수일 경우 홀수로 만듭니다.\n",
    "\n",
    "for i in range(-num + 1, num, 2):  # 홀수 개수만큼 증가하도록 변경합니다.\n",
    "    stars = '★' * (num - abs(i))\n",
    "    spaces = ' ' * abs(i)\n",
    "    line = spaces + stars\n",
    "    print(line)"
   ]
  },
  {
   "cell_type": "code",
   "execution_count": 11,
   "metadata": {},
   "outputs": [
    {
     "name": "stdout",
     "output_type": "stream",
     "text": [
      "숫자를 입력하세요: 5\n",
      "\n"
     ]
    },
    {
     "ename": "TypeError",
     "evalue": "object of type 'int' has no len()",
     "output_type": "error",
     "traceback": [
      "\u001b[1;31m---------------------------------------------------------------------------\u001b[0m",
      "\u001b[1;31mTypeError\u001b[0m                                 Traceback (most recent call last)",
      "\u001b[1;32m<ipython-input-11-4ff9588ee31e>\u001b[0m in \u001b[0;36m<module>\u001b[1;34m\u001b[0m\n\u001b[0;32m      9\u001b[0m     \u001b[1;32mfor\u001b[0m \u001b[0mk\u001b[0m \u001b[1;32min\u001b[0m \u001b[0mrange\u001b[0m\u001b[1;33m(\u001b[0m\u001b[1;36m0\u001b[0m\u001b[1;33m,\u001b[0m \u001b[0mstarNum\u001b[0m\u001b[1;33m)\u001b[0m\u001b[1;33m:\u001b[0m\u001b[1;33m\u001b[0m\u001b[1;33m\u001b[0m\u001b[0m\n\u001b[0;32m     10\u001b[0m         \u001b[0mstarStr\u001b[0m \u001b[1;33m+=\u001b[0m \u001b[1;34m'★'\u001b[0m\u001b[1;33m\u001b[0m\u001b[1;33m\u001b[0m\u001b[0m\n\u001b[1;32m---> 11\u001b[1;33m     \u001b[0mprint\u001b[0m\u001b[1;33m(\u001b[0m\u001b[1;34m' '\u001b[0m \u001b[1;33m*\u001b[0m \u001b[1;33m(\u001b[0m\u001b[0mlen\u001b[0m\u001b[1;33m(\u001b[0m\u001b[0mstarNum\u001b[0m\u001b[1;33m)\u001b[0m \u001b[1;33m-\u001b[0m \u001b[0mi\u001b[0m \u001b[1;33m-\u001b[0m \u001b[1;36m1\u001b[0m\u001b[1;33m)\u001b[0m \u001b[1;33m+\u001b[0m \u001b[0mstarStr\u001b[0m\u001b[1;33m)\u001b[0m\u001b[1;33m\u001b[0m\u001b[1;33m\u001b[0m\u001b[0m\n\u001b[0m\u001b[0;32m     12\u001b[0m     \u001b[0mi\u001b[0m \u001b[1;33m+=\u001b[0m \u001b[1;36m1\u001b[0m\u001b[1;33m\u001b[0m\u001b[1;33m\u001b[0m\u001b[0m\n\u001b[0;32m     13\u001b[0m     \u001b[1;32mif\u001b[0m \u001b[0mi\u001b[0m \u001b[1;33m>=\u001b[0m \u001b[0mlen\u001b[0m\u001b[1;33m(\u001b[0m\u001b[0mstarNum\u001b[0m\u001b[1;33m)\u001b[0m\u001b[1;33m:\u001b[0m\u001b[1;33m\u001b[0m\u001b[1;33m\u001b[0m\u001b[0m\n",
      "\u001b[1;31mTypeError\u001b[0m: object of type 'int' has no len()"
     ]
    }
   ],
   "source": [
    "starNum = input('숫자를 입력하세요: ')\n",
    "print()\n",
    "i = 0\n",
    "ch = starNum[i]\n",
    "\n",
    "while True:\n",
    "    starNum = int(ch)\n",
    "    starStr = ''\n",
    "    for k in range(0, starNum):\n",
    "        starStr += '★'\n",
    "    print(' ' * (len(starNum) - i - 1) + starStr)\n",
    "    i += 1\n",
    "    if i >= len(starNum):\n",
    "        break\n",
    "    ch = starNum[i]"
   ]
  },
  {
   "cell_type": "code",
   "execution_count": 12,
   "metadata": {},
   "outputs": [
    {
     "name": "stdout",
     "output_type": "stream",
     "text": [
      "숫자를 입력하세요: 8\n",
      "\n",
      "★★★★★★★★\n"
     ]
    }
   ],
   "source": [
    "starNum = input('숫자를 입력하세요: ')\n",
    "print()\n",
    "i = 0\n",
    "\n",
    "# ch 변수에 입력된 숫자의 첫 번째 문자를 저장\n",
    "ch = starNum[i]\n",
    "\n",
    "while True:\n",
    "    # ch 변수를 정수로 변환\n",
    "    starCount = int(ch)\n",
    "    \n",
    "    starStr = ''\n",
    "    for k in range(0, starCount):\n",
    "        starStr += '★'\n",
    "    \n",
    "    # 출력할 줄의 앞에 필요한 공백 계산\n",
    "    spaces = ' ' * (len(starNum) - i - 1)\n",
    "    \n",
    "    # 공백과 별 문자열을 결합하여 출력\n",
    "    print(spaces + starStr)\n",
    "    \n",
    "    i += 1\n",
    "    \n",
    "    # i가 입력된 숫자의 길이보다 크거나 같으면 반복문 종료\n",
    "    if i >= len(starNum):\n",
    "        break\n",
    "    \n",
    "    # 다음 문자를 ch 변수에 저장\n",
    "    ch = starNum[i]"
   ]
  },
  {
   "cell_type": "code",
   "execution_count": 17,
   "metadata": {},
   "outputs": [
    {
     "name": "stdout",
     "output_type": "stream",
     "text": [
      "숫자를 입력해주세요: 7\n",
      "\n",
      "            ★\n",
      "          ★★★\n",
      "        ★★★★★\n",
      "      ★★★★★★★\n",
      "    ★★★★★★★★★\n",
      "  ★★★★★★★★★★★\n",
      "★★★★★★★★★★★★★\n",
      "  ★★★★★★★★★★★\n",
      "    ★★★★★★★★★\n",
      "      ★★★★★★★\n",
      "        ★★★★★\n",
      "          ★★★\n",
      "            ★\n"
     ]
    }
   ],
   "source": [
    "num = int(input('숫자를 입력해주세요: '))\n",
    "print()\n",
    "\n",
    "# 위로 올라가는 부분 출력\n",
    "for i in range(1, num + 1):\n",
    "    spaces = '  ' * (num - i)\n",
    "    stars = '★' * (2 * i - 1)\n",
    "    print(spaces + stars)\n",
    "\n",
    "# 아래로 내려가는 부분 출력\n",
    "for i in range(num - 1, 0, -1):\n",
    "    spaces = '  ' * (num - i)\n",
    "    stars = '★' * (2 * i - 1)\n",
    "    print(spaces + stars)"
   ]
  },
  {
   "cell_type": "markdown",
   "metadata": {},
   "source": [
    "별 찍어주세요.\n",
    "입력: 5\n",
    "출력 :\n",
    "\n",
    "        ★\n",
    "      ★★★\n",
    "    ★★★★★\n",
    "  ★★★★★★★  \n",
    "★★★★★★★★★  \n",
    "  ★★★★★★★ \n",
    "    ★★★★★\n",
    "      ★★★\n",
    "        ★\n",
    "        "
   ]
  }
 ],
 "metadata": {
  "kernelspec": {
   "display_name": "Python 3",
   "language": "python",
   "name": "python3"
  }
 },
 "nbformat": 4,
 "nbformat_minor": 2
}
