{
 "cells": [
  {
   "cell_type": "markdown",
   "metadata": {},
   "source": [
    "# 15_제어문-조건문"
   ]
  },
  {
   "cell_type": "markdown",
   "metadata": {},
   "source": [
    "### 1. if문"
   ]
  },
  {
   "cell_type": "code",
   "execution_count": 3,
   "metadata": {},
   "outputs": [
    {
     "name": "stdout",
     "output_type": "stream",
     "text": [
      "구입할 수 있습니다\n"
     ]
    }
   ],
   "source": [
    "pencil_price = 3000             # if문\n",
    "money = 7000\n",
    "\n",
    "if pencil_price <= money  :\n",
    "    print('구입할 수 있습니다')"
   ]
  },
  {
   "cell_type": "markdown",
   "metadata": {},
   "source": [
    "### 2. if-else문"
   ]
  },
  {
   "cell_type": "code",
   "execution_count": 1,
   "metadata": {},
   "outputs": [
    {
     "name": "stdout",
     "output_type": "stream",
     "text": [
      "나이를 입력하세요40\n",
      "경로 우대 대상이 아닙니다\n"
     ]
    }
   ],
   "source": [
    "senior_age = 65\n",
    "\n",
    "age = int(input('나이를 입력하세요'))\n",
    "\n",
    "if  age > senior_age :\n",
    "    print('경로 우대에 해당됩니다')\n",
    "else:\n",
    "    print('경로 우대 대상이 아닙니다')"
   ]
  },
  {
   "cell_type": "markdown",
   "metadata": {},
   "source": [
    "### 3. if-elif-else문"
   ]
  },
  {
   "cell_type": "markdown",
   "metadata": {},
   "source": [
    "- point가 3000점 이상 : 최우수고객\n",
    "- point가 2000점 이상 :   우수고객\n",
    "- 이외 : 일반고객\n",
    "\n",
    "point를 입력받아 고객 등급 출력해보기"
   ]
  },
  {
   "cell_type": "code",
   "execution_count": 4,
   "metadata": {},
   "outputs": [
    {
     "name": "stdout",
     "output_type": "stream",
     "text": [
      "포인트를 입력하세요1500\n",
      "일반고객\n"
     ]
    }
   ],
   "source": [
    "point = int(input('포인트를 입력하세요'))\n",
    "\n",
    "if point >= 3000 :\n",
    "    print('최우수고객')\n",
    "elif point >= 2000 :\n",
    "    print('우수고객')\n",
    "else :\n",
    "    print('일반고객')"
   ]
  },
  {
   "cell_type": "markdown",
   "metadata": {},
   "source": [
    "### 4. 중첩 if 문"
   ]
  },
  {
   "cell_type": "markdown",
   "metadata": {},
   "source": [
    "- score가 70점 이상 : 통과\n",
    "  - 90점 이상 : A장학금 대상자\n",
    "  - 80점 이상 : B장학금 대상자\n",
    "- score가 60점 이상 : 조건부 통과\n",
    "- 이외 : 재수강 대상\n",
    "\n",
    "score를 입력받아 pass 상황 출력해보기"
   ]
  },
  {
   "cell_type": "code",
   "execution_count": null,
   "metadata": {},
   "outputs": [],
   "source": [
    "\n",
    "score = int(input('포인트를 입력하세요'))\n",
    "\n",
    "if score >= 70 :    \n",
    "    print('통과')\n",
    "    if score >= 90 :\n",
    "        print('A장학금대상')\n",
    "    elif score >= 80 :\n",
    "        print('B장학금대상')\n",
    "        \n",
    "elif score >= 60 :\n",
    "    print('조건부통과')\n",
    "    \n",
    "else :\n",
    "    print('재수강대상')\n"
   ]
  }
 ],
 "metadata": {
  "kernelspec": {
   "display_name": "Python 3",
   "language": "python",
   "name": "python3"
  },
  "language_info": {
   "codemirror_mode": {
    "name": "ipython",
    "version": 3
   },
   "file_extension": ".py",
   "mimetype": "text/x-python",
   "name": "python",
   "nbconvert_exporter": "python",
   "pygments_lexer": "ipython3",
   "version": "3.8.8"
  }
 },
 "nbformat": 4,
 "nbformat_minor": 2
}
