{
 "cells": [
  {
   "cell_type": "markdown",
   "metadata": {},
   "source": [
    "# 17_제어문-For반복문"
   ]
  },
  {
   "cell_type": "code",
   "execution_count": null,
   "metadata": {
    "scrolled": true
   },
   "outputs": [],
   "source": [
    "# for문 - range()를 사용하여 hello 를 다섯번 출력하기\n",
    "a = 'hello'\n",
    "for _ in range(5):\n",
    "    print(a)\n"
   ]
  },
  {
   "cell_type": "code",
   "execution_count": null,
   "metadata": {
    "scrolled": false
   },
   "outputs": [],
   "source": [
    "# for문 - range()를 사용하여 1~10까지 합계 구하기 \n",
    "a = 1\n",
    "a <= 9\n",
    "sum = sum + a\n",
    "for _ in range(10) :\n",
    "    a = a + 1\n",
    "    sum = a\n",
    "print(sum)\n",
    "\n",
    "\n"
   ]
  },
  {
   "cell_type": "code",
   "execution_count": null,
   "metadata": {
    "scrolled": true
   },
   "outputs": [],
   "source": [
    "sum = 0  \n",
    "\n",
    "for a in range(1, 11):  #for 변수(int) range (최소 숫자, 최대숫자)\n",
    "    sum = sum + a  \n",
    "\n",
    "print(sum) "
   ]
  },
  {
   "cell_type": "code",
   "execution_count": null,
   "metadata": {
    "scrolled": true
   },
   "outputs": [],
   "source": [
    "# for문 - range()를 사용하여 1~10까지 홀수의 합계\n",
    "sum = 1\n",
    "\n",
    "for a in range(1, 9):\n",
    "    a = 1\n",
    "    a % 2 == 1\n",
    "    a = a + 2\n",
    "    sum = sum + a\n",
    "    \n",
    "\n",
    "print(sum)\n",
    "\n",
    "\n"
   ]
  },
  {
   "cell_type": "code",
   "execution_count": 18,
   "metadata": {},
   "outputs": [
    {
     "name": "stdout",
     "output_type": "stream",
     "text": [
      "1\n",
      "원하는 숫자를 입력하세요, 10씩 증가하는 수의 합을 출력해드립니다 : 2\n",
      "원하는 숫자를 입력하세요, 10씩 증가하는 수의 합을 출력해드립니다 : 23\n",
      "원하는 숫자를 입력하세요, 10씩 증가하는 수의 합을 출력해드립니다 : 54\n",
      "원하는 숫자를 입력하세요, 10씩 증가하는 수의 합을 출력해드립니다 : 95\n",
      "원하는 숫자를 입력하세요, 10씩 증가하는 수의 합을 출력해드립니다 : 146\n",
      "원하는 숫자를 입력하세요, 10씩 증가하는 수의 합을 출력해드립니다 : 207\n",
      "원하는 숫자를 입력하세요, 10씩 증가하는 수의 합을 출력해드립니다 : 278\n",
      "원하는 숫자를 입력하세요, 10씩 증가하는 수의 합을 출력해드립니다 : 359\n",
      "원하는 숫자를 입력하세요, 10씩 증가하는 수의 합을 출력해드립니다 : 450\n",
      "원하는 숫자를 입력하세요, 10씩 증가하는 수의 합을 출력해드립니다 : 551\n"
     ]
    }
   ],
   "source": [
    "# for문 - range()를 사용하여 키보드로 입력한 값까지 합계 구하기\n",
    "a = int(input())\n",
    "sum = 0\n",
    "for a in range (1, 101, 10):\n",
    "    sum = sum + a\n",
    "    print ('원하는 숫자를 입력하세요, 10씩 증가하는 수의 합을 출력해드립니다 :', sum + a)\n",
    "\n",
    "\n",
    "\n"
   ]
  },
  {
   "cell_type": "code",
   "execution_count": 14,
   "metadata": {},
   "outputs": [
    {
     "name": "stdout",
     "output_type": "stream",
     "text": [
      "5050\n"
     ]
    }
   ],
   "source": [
    "total = 0\n",
    "for i in range(1, 101):\n",
    "    total += i\n",
    "print(total)\n",
    "\n",
    "\n",
    "\n",
    "\n",
    "\n"
   ]
  },
  {
   "cell_type": "code",
   "execution_count": 28,
   "metadata": {},
   "outputs": [
    {
     "name": "stdout",
     "output_type": "stream",
     "text": [
      "2\n",
      "2 x 1 = 2\n",
      "2 x 2 = 4\n",
      "2 x 3 = 6\n",
      "2 x 4 = 8\n",
      "2 x 5 = 10\n",
      "2 x 6 = 12\n",
      "2 x 7 = 14\n",
      "2 x 8 = 16\n",
      "2 x 9 = 18\n"
     ]
    }
   ],
   "source": [
    "# for문 - range()를 사용하여 입력받은 구구단 계산 나타내기\n",
    "a = int(input())\n",
    "b <= 9\n",
    "b = b + 1\n",
    "for b in range (1,10):\n",
    "    multiplication = a * b\n",
    "    print(a, 'x', b, '=', multiplication)\n",
    "\n",
    "\n"
   ]
  },
  {
   "cell_type": "code",
   "execution_count": null,
   "metadata": {},
   "outputs": [],
   "source": []
  },
  {
   "cell_type": "code",
   "execution_count": null,
   "metadata": {},
   "outputs": [],
   "source": []
  }
 ],
 "metadata": {
  "kernelspec": {
   "display_name": "Python 3",
   "language": "python",
   "name": "python3"
  },
  "language_info": {
   "codemirror_mode": {
    "name": "ipython",
    "version": 3
   },
   "file_extension": ".py",
   "mimetype": "text/x-python",
   "name": "python",
   "nbconvert_exporter": "python",
   "pygments_lexer": "ipython3",
   "version": "3.8.8"
  }
 },
 "nbformat": 4,
 "nbformat_minor": 2
}
