{
 "cells": [
  {
   "cell_type": "markdown",
   "metadata": {},
   "source": [
    "# 14_미니프로젝트2"
   ]
  },
  {
   "cell_type": "markdown",
   "metadata": {},
   "source": [
    "### 4. 성적처리 프로그램 만들기\n",
    "세 과목(국어, 수학, 영어) 성적을 입력(정수로)받아 세 과목의 총점과 평균을 구하는 프로그램을 작성하세요.  \n",
    "평균은 소수점 둘째 자리까지 출력되도록 합니다. \n",
    "\n",
    "- 프로그램 실행화면  \n",
    "  국어 점수를 입력하세요 : 78  \n",
    "  영어 점수를 입력하세요 : 90  \n",
    "  수학 점수를 입력하세요 : 86  \n",
    "\n",
    "  과목별 성적  \n",
    "  '===============================  \n",
    "  국어 : 78 , 영어 : 90, 수학: 86\n",
    "\n",
    "  ===============================  \n",
    "  총점 : 254  \n",
    "  평균 : 84.67"
   ]
  },
  {
   "cell_type": "code",
   "execution_count": 24,
   "metadata": {},
   "outputs": [
    {
     "name": "stdout",
     "output_type": "stream",
     "text": [
      "국어성적은 78점입니다\n",
      "영어성적은 90점입니다\n",
      "수학성적은 86점입니다\n",
      "총점 : 254점\n",
      "3과목 평균 : 84.67점\n"
     ]
    }
   ],
   "source": [
    "a = 78\n",
    "b = 90\n",
    "c = 86\n",
    "\n",
    "korean_score = a\n",
    "english_score = b\n",
    "math_score = c\n",
    "\n",
    "sumofscore = a + b + c\n",
    "x = a + b + c\n",
    "\n",
    "averagescore = float(a + b + c) / 3\n",
    "y = float(a + b + c) / 3\n",
    "\n",
    "\n",
    "print(\"국어성적은 %d점입니다\" % a)\n",
    "print(\"영어성적은 %d점입니다\" % b)\n",
    "print(\"수학성적은 %d점입니다\" % c)\n",
    "print(\"총점 : %d점\" % x)\n",
    "print(f\"3과목 평균 : {round(y, 2)}점\")\n",
    "\n",
    "\n",
    "\n",
    "\n",
    "\n",
    "\n",
    "\n",
    "\n",
    "\n"
   ]
  },
  {
   "cell_type": "raw",
   "metadata": {},
   "source": [
    "# 5. BMI(Body Mass Index) 지수 구하기 - 입출력함수\n",
    "키와 몸무게를 입력받아 BMI 지수를 출력하는 프로그램을 작성하세요.  \n",
    "BMI 지수는 소수점 2째자리까지 반올림하여 나타내세요.  \n",
    "BMI(신체질량지수) 지수 : 몸무게(kg) / (키(m)<sup>2</sup>\n",
    "\n",
    "- 프로그램 실행화면  \n",
    "  이름을 입력하세요 : 파이썬  \n",
    "  키(cm)를 정수로 입력하세요 : 183   \n",
    "  몸무게(kg)를 정수로 입력하세요 : 77   \n",
    "  \n",
    "  파이썬 님의 키는  183 cm이고 몸무게는  77 kg 입니다.  \n",
    "  BMI 지수는  22.99 입니다.\n"
   ]
  },
  {
   "cell_type": "markdown",
   "metadata": {},
   "source": [
    "### 6. 주민등록번호 처리하기\n",
    "파이썬씨의 주민등록번호는 921120-1068234이다.  \n",
    "파이썬씨는 몇년생이며 성별을 나타내는 숫자를 찾아 출력해 보세요\n",
    "\n",
    "- 프로그램 실행화면  \n",
    "  92년생  \n",
    "  1"
   ]
  },
  {
   "cell_type": "code",
   "execution_count": 34,
   "metadata": {},
   "outputs": [
    {
     "name": "stdout",
     "output_type": "stream",
     "text": [
      "이름 : 파이썬\n",
      "나이 : 92년생\n",
      "주민번호 뒷자리 시작번호 : 1\n"
     ]
    }
   ],
   "source": [
    "age = '921120-1068234'\n",
    "n = \"파이썬\"\n",
    "\n",
    "print(\"이름 : %s\" %n)\n",
    "print(\"나이 : \" + age[0:2] + \"년생\")\n",
    "print(\"주민번호 뒷자리 시작번호 : \" + age[7])"
   ]
  },
  {
   "cell_type": "code",
   "execution_count": 35,
   "metadata": {},
   "outputs": [
    {
     "name": "stdout",
     "output_type": "stream",
     "text": [
      "곽철용님의 키는 183 cm이고, 몸무게는 77 kg입니다.\n",
      "BMI지수는 22.99 입니다\n"
     ]
    }
   ],
   "source": [
    "x = \"곽철용\"\n",
    "a = 183\n",
    "b = 77\n",
    "y = b / (a / 100) ** 2\n",
    "\n",
    "height = a\n",
    "weight = b\n",
    "name = x\n",
    "BMI = y\n",
    "\n",
    "print(\"%s님의 키는 %d cm이고, 몸무게는 %d kg입니다.\" % (x, a, b))\n",
    "print(f\"BMI지수는 {round(y, 2)} 입니다\")"
   ]
  },
  {
   "cell_type": "code",
   "execution_count": null,
   "metadata": {},
   "outputs": [],
   "source": []
  }
 ],
 "metadata": {
  "kernelspec": {
   "display_name": "Python 3",
   "language": "python",
   "name": "python3"
  },
  "language_info": {
   "codemirror_mode": {
    "name": "ipython",
    "version": 3
   },
   "file_extension": ".py",
   "mimetype": "text/x-python",
   "name": "python",
   "nbconvert_exporter": "python",
   "pygments_lexer": "ipython3",
   "version": "3.8.8"
  }
 },
 "nbformat": 4,
 "nbformat_minor": 2
}
