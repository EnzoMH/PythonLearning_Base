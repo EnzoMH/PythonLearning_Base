{
 "cells": [
  {
   "cell_type": "markdown",
   "metadata": {},
   "source": [
    "# 24_복합자료형 심화"
   ]
  },
  {
   "cell_type": "markdown",
   "metadata": {},
   "source": [
    "### 1. 컴프리헨션(함축)"
   ]
  },
  {
   "cell_type": "code",
   "execution_count": 1,
   "metadata": {},
   "outputs": [
    {
     "name": "stdout",
     "output_type": "stream",
     "text": [
      "[3, 6, 9, 12, 15, 18]\n"
     ]
    }
   ],
   "source": [
    "# 순차적인 리스트를 한줄로\n",
    "numList = []\n",
    "for num in range(1,21) :\n",
    "    if num % 3 == 0 :\n",
    "        numList.append(num)\n",
    "\n",
    "print(numList)"
   ]
  },
  {
   "cell_type": "code",
   "execution_count": 2,
   "metadata": {},
   "outputs": [
    {
     "name": "stdout",
     "output_type": "stream",
     "text": [
      "[4, 8, 12, 16, 20, 24, 28, 32, 36, 40, 44, 48, 52, 56, 60, 64, 68, 72, 76, 80, 84, 88, 92, 96]\n"
     ]
    }
   ],
   "source": [
    "numList = []\n",
    "for num in range(1,100):\n",
    "    if num % 4 == 0 :\n",
    "        numList.append(num)\n",
    "print(numList)"
   ]
  },
  {
   "cell_type": "code",
   "execution_count": 3,
   "metadata": {
    "scrolled": true
   },
   "outputs": [
    {
     "name": "stdout",
     "output_type": "stream",
     "text": [
      "[1, 2, 3, 4, 5]\n"
     ]
    }
   ],
   "source": [
    "numList = [num for num in range(1,6)] # [ num in range(1.6) --> 1 <= num , 6\n",
    "\n",
    "print(numList)"
   ]
  },
  {
   "cell_type": "code",
   "execution_count": 4,
   "metadata": {},
   "outputs": [
    {
     "name": "stdout",
     "output_type": "stream",
     "text": [
      "[1, 2, 3, 4, 5, 6, 7, 8, 9, 10]\n"
     ]
    }
   ],
   "source": [
    "numList = [num for num in range(1,11)]\n",
    "print(numList)\n",
    "           "
   ]
  },
  {
   "cell_type": "code",
   "execution_count": 5,
   "metadata": {},
   "outputs": [
    {
     "name": "stdout",
     "output_type": "stream",
     "text": [
      "[1, 4, 9, 16, 25]\n"
     ]
    }
   ],
   "source": [
    "numList = [num * num for num in range(1,6)]\n",
    "print(numList)"
   ]
  },
  {
   "cell_type": "code",
   "execution_count": 6,
   "metadata": {},
   "outputs": [
    {
     "name": "stdout",
     "output_type": "stream",
     "text": [
      "[3, 6, 9, 12, 15, 18]\n"
     ]
    }
   ],
   "source": [
    "numList = [num for num in range(1,21) if num % 3 == 0]\n",
    "print(numList)"
   ]
  },
  {
   "cell_type": "code",
   "execution_count": 7,
   "metadata": {},
   "outputs": [
    {
     "name": "stdout",
     "output_type": "stream",
     "text": [
      "a\n",
      "b\n",
      "c\n"
     ]
    }
   ],
   "source": [
    "d = {'a':1, 'b':3, 'c':2}\n",
    "for i in d :\n",
    "    print(i)"
   ]
  },
  {
   "cell_type": "code",
   "execution_count": 8,
   "metadata": {},
   "outputs": [
    {
     "name": "stdout",
     "output_type": "stream",
     "text": [
      "[('a', 1), ('b', 3), ('c', 2)]\n"
     ]
    }
   ],
   "source": [
    "d2 = [(k,v) for k, v in d.items()]; print(d2)"
   ]
  },
  {
   "cell_type": "code",
   "execution_count": 9,
   "metadata": {},
   "outputs": [
    {
     "name": "stdout",
     "output_type": "stream",
     "text": [
      "명호\n",
      "종대\n",
      "형준\n",
      "은진\n",
      "준호\n",
      "상은\n"
     ]
    }
   ],
   "source": [
    "sixeye = {'명호':4, '종대':5, '형준':1, '은진':2, '준호': 3, '상은': 6} # 여기서 이름 옆의 정수들은 index가 아닌 별도의 Value값\n",
    "for i in sixeye :\n",
    "    print(i)\n"
   ]
  },
  {
   "cell_type": "code",
   "execution_count": 10,
   "metadata": {},
   "outputs": [
    {
     "name": "stdout",
     "output_type": "stream",
     "text": [
      "[('명호', 4), ('종대', 5), ('형준', 1), ('은진', 2), ('준호', 3), ('상은', 6)]\n"
     ]
    }
   ],
   "source": [
    "sixeye = [(k,v) for k, v in sixeye.items()]; print(sixeye)"
   ]
  },
  {
   "cell_type": "markdown",
   "metadata": {},
   "source": [
    "### 2. 동시에 여러 리스트에 접근하기"
   ]
  },
  {
   "cell_type": "code",
   "execution_count": 11,
   "metadata": {},
   "outputs": [
    {
     "name": "stdout",
     "output_type": "stream",
     "text": [
      "떡볶이 --> 단무지\n",
      "라면 --> 김치\n",
      "오뎅 --> 쿨피스\n"
     ]
    }
   ],
   "source": [
    "foods = ['떡볶이','라면','오뎅','피자']\n",
    "sides = ['단무지', '김치', '쿨피스']\n",
    "\n",
    "for food, side in zip(foods, sides) :\n",
    "    print(food, '-->' ,side)"
   ]
  },
  {
   "cell_type": "code",
   "execution_count": 12,
   "metadata": {},
   "outputs": [
    {
     "data": {
      "text/plain": [
       "[('떡볶이', '단무지'), ('라면', '김치'), ('오뎅', '쿨피스')]"
      ]
     },
     "execution_count": 12,
     "metadata": {},
     "output_type": "execute_result"
    }
   ],
   "source": [
    "tupList = list(zip(foods, sides))   # zip 함수: 두 리스트를 튜플로\n",
    "tupList"
   ]
  },
  {
   "cell_type": "code",
   "execution_count": 13,
   "metadata": {},
   "outputs": [
    {
     "data": {
      "text/plain": [
       "{'떡볶이': '단무지', '라면': '김치', '오뎅': '쿨피스'}"
      ]
     },
     "execution_count": 13,
     "metadata": {},
     "output_type": "execute_result"
    }
   ],
   "source": [
    "my_dic = dict(zip(foods, sides))   # zip 함수: 두 리스트를 튜플로\n",
    "my_dic"
   ]
  },
  {
   "cell_type": "code",
   "execution_count": 14,
   "metadata": {},
   "outputs": [
    {
     "name": "stdout",
     "output_type": "stream",
     "text": [
      "손흥민 은(는) 공격수 입니다.\n",
      "이강인 은(는) 미드필더 입니다.\n",
      "김민재 은(는) 수비수 입니다.\n"
     ]
    }
   ],
   "source": [
    "players = ['손흥민', '이강인', '김민재']\n",
    "positions = ['공격수', '미드필더', '수비수', '골키퍼']\n",
    "\n",
    "for player, position in zip(players, positions) :\n",
    "    print(player, '은(는)', position, '입니다.' )\n",
    "    "
   ]
  },
  {
   "cell_type": "markdown",
   "metadata": {},
   "source": [
    "### 3. 리스트 복사 시 유의사항"
   ]
  },
  {
   "cell_type": "code",
   "execution_count": 15,
   "metadata": {},
   "outputs": [
    {
     "name": "stdout",
     "output_type": "stream",
     "text": [
      "['떡볶이', '라면', '오뎅', '피자']\n"
     ]
    }
   ],
   "source": [
    "orgList = ['떡볶이','라면','오뎅','피자']\n",
    "newList = orgList\n",
    "print(newList)"
   ]
  },
  {
   "cell_type": "code",
   "execution_count": 16,
   "metadata": {},
   "outputs": [
    {
     "data": {
      "text/plain": [
       "['짬봉', '라면', '오뎅', '피자', '깐풍기']"
      ]
     },
     "execution_count": 16,
     "metadata": {},
     "output_type": "execute_result"
    }
   ],
   "source": [
    "newList[0] = '짬봉'\n",
    "newList.append('깐풍기')\n",
    "newList"
   ]
  },
  {
   "cell_type": "code",
   "execution_count": null,
   "metadata": {},
   "outputs": [],
   "source": [
    "orgList                            # 대입한 경우 같은 메모리를 사용"
   ]
  },
  {
   "cell_type": "code",
   "execution_count": null,
   "metadata": {},
   "outputs": [],
   "source": [
    "newList1 = orgList[:]"
   ]
  },
  {
   "cell_type": "code",
   "execution_count": null,
   "metadata": {},
   "outputs": [],
   "source": [
    "newList1.append('군만두')\n",
    "newList1"
   ]
  },
  {
   "cell_type": "code",
   "execution_count": null,
   "metadata": {},
   "outputs": [],
   "source": [
    "orgList"
   ]
  },
  {
   "cell_type": "code",
   "execution_count": null,
   "metadata": {},
   "outputs": [],
   "source": [
    "newList2 = orgList.copy()"
   ]
  },
  {
   "cell_type": "code",
   "execution_count": null,
   "metadata": {},
   "outputs": [],
   "source": [
    "newList2.append('양장피')\n",
    "newList2"
   ]
  },
  {
   "cell_type": "code",
   "execution_count": null,
   "metadata": {},
   "outputs": [],
   "source": [
    "orgList"
   ]
  },
  {
   "cell_type": "code",
   "execution_count": null,
   "metadata": {},
   "outputs": [],
   "source": [
    "quiz_dict = {\n",
    "    \"1. 파이썬의 공식 로고는 무엇인가요?\": \"파이썬 스네이크\",\n",
    "    \"2. 파이썬은 어떤 타입의 언어인가요?\": \"동적 타이핑\",\n",
    "    \"3. 파이썬의 창시자는 누구인가요?\": \"귀도 반 로섬\",\n",
    "}\n",
    "\n",
    "while True:\n",
    "    # 질문을 랜덤하게 선택합니다.\n",
    "    import random\n",
    "    question = random.choice(list(quiz_dict.keys()))\n",
    "\n",
    "    # 사용자에게 질문을 출력하고 답을 입력받습니다.\n",
    "    user_answer = input(question + \" (정답을 입력하세요, 종료하려면 'q'를 입력하세요): \")\n",
    "\n",
    "    if user_answer.lower() == 'q':\n",
    "        print(\"게임 종료\")\n",
    "        break  # 게임 종료\n",
    "\n",
    "    correct_answer = quiz_dict[question]\n",
    "\n",
    "    if user_answer == correct_answer:\n",
    "        print(\"정답입니다!\")\n",
    "    else:\n",
    "        print(\"다시 시도하세요.\")"
   ]
  },
  {
   "cell_type": "code",
   "execution_count": null,
   "metadata": {},
   "outputs": [],
   "source": []
  }
 ],
 "metadata": {
  "kernelspec": {
   "display_name": "Python 3",
   "language": "python",
   "name": "python3"
  },
  "language_info": {
   "codemirror_mode": {
    "name": "ipython",
    "version": 3
   },
   "file_extension": ".py",
   "mimetype": "text/x-python",
   "name": "python",
   "nbconvert_exporter": "python",
   "pygments_lexer": "ipython3",
   "version": "3.8.8"
  }
 },
 "nbformat": 4,
 "nbformat_minor": 2
}
